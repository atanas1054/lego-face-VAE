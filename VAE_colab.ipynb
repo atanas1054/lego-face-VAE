{
 "cells": [
  {
   "cell_type": "markdown",
   "metadata": {},
   "source": [
    "## Set up Colab environment"
   ]
  },
  {
   "cell_type": "code",
   "execution_count": null,
   "metadata": {},
   "outputs": [],
   "source": [
    "!git clone https://github.com/iechevarria/lego-face-VAE"
   ]
  },
  {
   "cell_type": "code",
   "execution_count": null,
   "metadata": {},
   "outputs": [],
   "source": [
    "cd lego-face-VAE"
   ]
  },
  {
   "cell_type": "code",
   "execution_count": null,
   "metadata": {},
   "outputs": [],
   "source": [
    "!unzip dataset.zip"
   ]
  },
  {
   "cell_type": "markdown",
   "metadata": {
    "colab_type": "text",
    "id": "1Y_bMoy7F0b_"
   },
   "source": [
    "## Sanity test: run the VAE model on MNIST"
   ]
  },
  {
   "cell_type": "code",
   "execution_count": null,
   "metadata": {
    "colab": {
     "base_uri": "https://localhost:8080/",
     "height": 83
    },
    "colab_type": "code",
    "executionInfo": {
     "elapsed": 1383,
     "status": "ok",
     "timestamp": 1579061098717,
     "user": {
      "displayName": "Ivan Echevarria",
      "photoUrl": "https://lh3.googleusercontent.com/a-/AAuE7mAMfXfPhJs1ZbXwkAN3KX7224lDjhrEydAc-M11=s64",
      "userId": "07266047554037102241"
     },
     "user_tz": 480
    },
    "id": "DD0qIQoDF4U3",
    "outputId": "0668b577-7166-4e21-c2e6-147bec389e0f",
    "scrolled": true
   },
   "outputs": [],
   "source": [
    "from ml.utils import load_mnist\n",
    "from ml.variational_autoencoder import VariationalAutoencoder"
   ]
  },
  {
   "cell_type": "code",
   "execution_count": null,
   "metadata": {
    "colab": {},
    "colab_type": "code",
    "id": "Bj3k-UhEGJkJ",
    "scrolled": true
   },
   "outputs": [],
   "source": [
    "(x_train, _), (x_test, _) = load_mnist()"
   ]
  },
  {
   "cell_type": "code",
   "execution_count": null,
   "metadata": {
    "colab": {
     "base_uri": "https://localhost:8080/",
     "height": 473
    },
    "colab_type": "code",
    "executionInfo": {
     "elapsed": 1839,
     "status": "ok",
     "timestamp": 1579061129166,
     "user": {
      "displayName": "Ivan Echevarria",
      "photoUrl": "https://lh3.googleusercontent.com/a-/AAuE7mAMfXfPhJs1ZbXwkAN3KX7224lDjhrEydAc-M11=s64",
      "userId": "07266047554037102241"
     },
     "user_tz": 480
    },
    "id": "zrJGSGBpHKy3",
    "outputId": "f0543f09-bed9-4eb6-b782-1bb71e845241",
    "scrolled": true
   },
   "outputs": [],
   "source": [
    "encoder_params = [\n",
    "    {\"filters\": 32, \"kernel_size\": 3, \"strides\": 1},\n",
    "    {\"filters\": 64, \"kernel_size\": 3, \"strides\": 2},\n",
    "    {\"filters\": 64, \"kernel_size\": 3, \"strides\": 2},\n",
    "    {\"filters\": 64, \"kernel_size\": 3, \"strides\": 1},\n",
    "]\n",
    "\n",
    "decoder_params = [\n",
    "    {\"filters\": 64, \"kernel_size\": 3, \"strides\": 1},\n",
    "    {\"filters\": 64, \"kernel_size\": 3, \"strides\": 2},\n",
    "    {\"filters\": 32, \"kernel_size\": 3, \"strides\": 2},\n",
    "    {\"filters\": 1, \"kernel_size\": 3, \"strides\": 1},\n",
    "]\n",
    "\n",
    "vae = VariationalAutoencoder(\n",
    "    input_dim = (28,28,1),\n",
    "    latent_dim = 8,\n",
    "    encoder_params=encoder_params,\n",
    "    decoder_params=decoder_params,\n",
    ")\n",
    "\n",
    "vae.save()"
   ]
  },
  {
   "cell_type": "code",
   "execution_count": null,
   "metadata": {
    "colab": {},
    "colab_type": "code",
    "id": "tOMnUkdCHX7A",
    "scrolled": true
   },
   "outputs": [],
   "source": [
    "LEARNING_RATE = 0.0005\n",
    "BATCH_SIZE = 32"
   ]
  },
  {
   "cell_type": "code",
   "execution_count": null,
   "metadata": {
    "colab": {
     "base_uri": "https://localhost:8080/",
     "height": 53
    },
    "colab_type": "code",
    "executionInfo": {
     "elapsed": 341,
     "status": "ok",
     "timestamp": 1579061158220,
     "user": {
      "displayName": "Ivan Echevarria",
      "photoUrl": "https://lh3.googleusercontent.com/a-/AAuE7mAMfXfPhJs1ZbXwkAN3KX7224lDjhrEydAc-M11=s64",
      "userId": "07266047554037102241"
     },
     "user_tz": 480
    },
    "id": "haTs5FWTHdqg",
    "outputId": "57a2f3fc-2943-4f6b-a8c5-243dd42a6023",
    "scrolled": true
   },
   "outputs": [],
   "source": [
    "vae.compile_model(lr=LEARNING_RATE, r_loss_factor=1000)"
   ]
  },
  {
   "cell_type": "code",
   "execution_count": null,
   "metadata": {
    "colab": {
     "base_uri": "https://localhost:8080/",
     "height": 1000
    },
    "colab_type": "code",
    "id": "vqHZbc1uHfMQ",
    "outputId": "a03d6015-ed3b-439e-d6ac-a06d46a35651",
    "scrolled": true
   },
   "outputs": [],
   "source": [
    "vae.train(\n",
    "    x_train,\n",
    "    batch_size=BATCH_SIZE,\n",
    "    epochs=200\n",
    ")"
   ]
  },
  {
   "cell_type": "code",
   "execution_count": null,
   "metadata": {
    "colab": {},
    "colab_type": "code",
    "id": "Uu1nrCcIHjUI",
    "scrolled": true
   },
   "outputs": [],
   "source": [
    "plot_reconstructed_images(data=x_test, encoder=vae.encoder_model, decoder=vae.decoder_model)"
   ]
  },
  {
   "cell_type": "markdown",
   "metadata": {
    "colab": {
     "base_uri": "https://localhost:8080/",
     "height": 35
    },
    "colab_type": "code",
    "executionInfo": {
     "elapsed": 342,
     "status": "ok",
     "timestamp": 1579058949835,
     "user": {
      "displayName": "Ivan Echevarria",
      "photoUrl": "https://lh3.googleusercontent.com/a-/AAuE7mAMfXfPhJs1ZbXwkAN3KX7224lDjhrEydAc-M11=s64",
      "userId": "07266047554037102241"
     },
     "user_tz": 480
    },
    "id": "IgxfKv-LPlKT",
    "outputId": "a19c7870-26cf-48e6-bfbe-a32ce28f265d"
   },
   "source": [
    "## Train VAE on Lego faces"
   ]
  },
  {
   "cell_type": "code",
   "execution_count": null,
   "metadata": {
    "colab": {},
    "colab_type": "code",
    "id": "EXVRWextP2B1",
    "scrolled": true
   },
   "outputs": [],
   "source": [
    "import numpy as np\n",
    "\n",
    "from ml.utils import load_lego_faces, load_model, morph_images, plot_reconstructed_images \n",
    "from ml.variational_autoencoder import VariationalAutoencoder"
   ]
  },
  {
   "cell_type": "code",
   "execution_count": null,
   "metadata": {},
   "outputs": [],
   "source": [
    "lego_face_dict = load_lego_faces(size=64)\n",
    "lego_faces = np.array(list(lego_face_dict.values()))"
   ]
  },
  {
   "cell_type": "code",
   "execution_count": null,
   "metadata": {},
   "outputs": [],
   "source": [
    "encoder_params = [\n",
    "    {\"filters\": 64, \"kernel_size\": 3, \"strides\": 1},\n",
    "    {\"filters\": 64, \"kernel_size\": 3, \"strides\": 2},\n",
    "    {\"filters\": 64, \"kernel_size\": 3, \"strides\": 2},\n",
    "    {\"filters\": 64, \"kernel_size\": 3, \"strides\": 2},\n",
    "    {\"filters\": 64, \"kernel_size\": 3, \"strides\": 1},\n",
    "]\n",
    "\n",
    "decoder_params = [\n",
    "    {\"filters\": 64, \"kernel_size\": 3, \"strides\": 1},\n",
    "    {\"filters\": 64, \"kernel_size\": 3, \"strides\": 2},\n",
    "    {\"filters\": 64, \"kernel_size\": 3, \"strides\": 2},\n",
    "    {\"filters\": 32, \"kernel_size\": 3, \"strides\": 2},\n",
    "    {\"filters\": 3, \"kernel_size\": 3, \"strides\": 1},\n",
    "]\n",
    "\n",
    "vae = VariationalAutoencoder(\n",
    "    input_dim = (64, 64, 3),\n",
    "    latent_dim = 200,\n",
    "    encoder_params=encoder_params,\n",
    "    decoder_params=decoder_params,\n",
    ")\n",
    "\n",
    "vae.save()"
   ]
  },
  {
   "cell_type": "code",
   "execution_count": null,
   "metadata": {},
   "outputs": [],
   "source": [
    "LEARNING_RATE = 0.0005\n",
    "BATCH_SIZE = 32"
   ]
  },
  {
   "cell_type": "code",
   "execution_count": null,
   "metadata": {},
   "outputs": [],
   "source": [
    "vae.compile_model(lr=LEARNING_RATE, r_loss_factor=10000)"
   ]
  },
  {
   "cell_type": "code",
   "execution_count": null,
   "metadata": {},
   "outputs": [],
   "source": [
    "vae.train(\n",
    "    lego_faces,\n",
    "    batch_size=BATCH_SIZE,\n",
    "    epochs=200\n",
    ")"
   ]
  },
  {
   "cell_type": "markdown",
   "metadata": {},
   "source": [
    "## Do the fun stuff with the VAE"
   ]
  },
  {
   "cell_type": "code",
   "execution_count": null,
   "metadata": {},
   "outputs": [],
   "source": [
    "import numpy as np\n",
    "from ml.utils import (\n",
    "    animate_morph_images,\n",
    "    load_lego_faces,\n",
    "    load_model,\n",
    "    plot_morph_images,\n",
    "    plot_random_faces,\n",
    "    plot_reconstructed_images,\n",
    ")\n",
    "\n",
    "vae = load_model(path='trained_model')\n",
    "\n",
    "lego_face_dict = load_lego_faces(size=64)\n",
    "filenames, lego_faces = zip(*lego_face_dict.items())\n",
    "lego_faces = np.array(list(lego_faces))\n",
    "\n",
    "common_kwargs = {\n",
    "    'encoder': vae.encoder_model,\n",
    "    'decoder': vae.decoder_model,\n",
    "}"
   ]
  },
  {
   "cell_type": "markdown",
   "metadata": {},
   "source": [
    "### Reconstruct faces"
   ]
  },
  {
   "cell_type": "code",
   "execution_count": null,
   "metadata": {},
   "outputs": [],
   "source": [
    "plot_reconstructed_images(data=lego_faces, **common_kwargs)"
   ]
  },
  {
   "cell_type": "markdown",
   "metadata": {},
   "source": [
    "### Generate new faces"
   ]
  },
  {
   "cell_type": "code",
   "execution_count": null,
   "metadata": {},
   "outputs": [],
   "source": [
    "plot_random_faces(vae.decoder_model)\n",
    "plot_random_faces(vae.decoder_model)\n",
    "plot_random_faces(vae.decoder_model)\n",
    "plot_random_faces(vae.decoder_model)"
   ]
  },
  {
   "cell_type": "markdown",
   "metadata": {},
   "source": [
    "### Do face morphs"
   ]
  },
  {
   "cell_type": "code",
   "execution_count": null,
   "metadata": {},
   "outputs": [],
   "source": [
    "pairs = [\n",
    "    ('3626cpb1221.jpg', '3626cpb2054.jpg'),\n",
    "    ('3626bpx121.jpg', '3626cpb1495.jpg'),\n",
    "    ('3626cpb1591_0.jpg', '3626cpb2271_1.jpg'),\n",
    "    ('3626cpb1398_0.jpg', '3626cpb2380_0.jpg'),\n",
    "    ('3626cpb1484.jpg', '3626cpb0978.jpg'),\n",
    "]\n",
    "\n",
    "for f1, f2 in pairs:\n",
    "    plot_morph_images(\n",
    "        lego_face_dict[f1], \n",
    "        lego_face_dict[f2],\n",
    "        **common_kwargs,\n",
    "    )"
   ]
  },
  {
   "cell_type": "code",
   "execution_count": null,
   "metadata": {},
   "outputs": [],
   "source": [
    "f1, f2 = pairs[3]\n",
    "clip = animate_morph_images(\n",
    "    lego_face_dict[f1], \n",
    "    lego_face_dict[f2],\n",
    "    n_steps=90,\n",
    "    **common_kwargs,\n",
    ")\n",
    "clip.ipython_display(width=400)"
   ]
  },
  {
   "cell_type": "markdown",
   "metadata": {},
   "source": [
    "### Make t-SNE plots"
   ]
  },
  {
   "cell_type": "code",
   "execution_count": null,
   "metadata": {},
   "outputs": [],
   "source": [
    "encodings = np.asarray(vae.encoder_model.predict(lego_faces), dtype=np.float64)"
   ]
  },
  {
   "cell_type": "code",
   "execution_count": null,
   "metadata": {},
   "outputs": [],
   "source": [
    "from sklearn.decomposition import PCA\n",
    "from sklearn.manifold import TSNE\n",
    "\n",
    "enc_50d = PCA(n_components=50).fit_transform(encodings)\n",
    "tsne_coords = TSNE(n_components=2).fit_transform(enc_50d)"
   ]
  },
  {
   "cell_type": "code",
   "execution_count": null,
   "metadata": {},
   "outputs": [],
   "source": [
    "from os.path import join\n",
    "import matplotlib.pyplot as plt\n",
    "from matplotlib.offsetbox import AnnotationBbox, OffsetImage\n",
    "\n",
    "offset = 0\n",
    "num_to_show = 4000\n",
    "\n",
    "x_coords, y_coords = list(zip(*tsne_coords[offset:offset + num_to_show]))\n",
    "relevant_files = filenames[offset:offset + num_to_show]\n",
    "\n",
    "fig, ax = plt.subplots(figsize=(50, 50))\n",
    "ax.axis('off')\n",
    "ax.set_xlim(-50, 50)\n",
    "ax.set_ylim(-50, 50)\n",
    "\n",
    "i = 0\n",
    "for x, y, filename in zip(x_coords, y_coords, relevant_files):\n",
    "    ab = AnnotationBbox(\n",
    "        OffsetImage(plt.imread(join('dataset', filename)), zoom=0.2),\n",
    "        xy=(x, y),\n",
    "        frameon=False,\n",
    "    )\n",
    "    ax.add_artist(ab)\n",
    "    i += 1\n",
    "\n",
    "plt.show()"
   ]
  },
  {
   "cell_type": "code",
   "execution_count": null,
   "metadata": {},
   "outputs": [],
   "source": []
  }
 ],
 "metadata": {
  "accelerator": "GPU",
  "colab": {
   "authorship_tag": "ABX9TyOOH19Mcj621z8Tc3QsR02A",
   "collapsed_sections": [],
   "name": "VAE_colab.ipynb",
   "provenance": []
  },
  "kernelspec": {
   "display_name": "Python 3",
   "language": "python",
   "name": "python3"
  },
  "language_info": {
   "codemirror_mode": {
    "name": "ipython",
    "version": 3
   },
   "file_extension": ".py",
   "mimetype": "text/x-python",
   "name": "python",
   "nbconvert_exporter": "python",
   "pygments_lexer": "ipython3",
   "version": "3.7.3"
  }
 },
 "nbformat": 4,
 "nbformat_minor": 1
}
