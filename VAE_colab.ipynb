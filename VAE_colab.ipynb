{
 "cells": [
  {
   "cell_type": "markdown",
   "metadata": {
    "colab_type": "text",
    "id": "fcXOgh2nFNY1"
   },
   "source": [
    "## Set up workspace"
   ]
  },
  {
   "cell_type": "code",
   "execution_count": null,
   "metadata": {
    "colab": {
     "base_uri": "https://localhost:8080/",
     "height": 35
    },
    "colab_type": "code",
    "executionInfo": {
     "elapsed": 1202,
     "status": "ok",
     "timestamp": 1579061030378,
     "user": {
      "displayName": "Ivan Echevarria",
      "photoUrl": "https://lh3.googleusercontent.com/a-/AAuE7mAMfXfPhJs1ZbXwkAN3KX7224lDjhrEydAc-M11=s64",
      "userId": "07266047554037102241"
     },
     "user_tz": 480
    },
    "id": "1O6_tK34EESI",
    "outputId": "4f4660be-ee0e-4d7a-8a38-67ccc60b2e9b",
    "scrolled": true
   },
   "outputs": [],
   "source": [
    "!git clone https://github.com/iechevarria/lego-face-deep-learning.git"
   ]
  },
  {
   "cell_type": "code",
   "execution_count": null,
   "metadata": {
    "colab": {
     "base_uri": "https://localhost:8080/",
     "height": 35
    },
    "colab_type": "code",
    "executionInfo": {
     "elapsed": 384,
     "status": "ok",
     "timestamp": 1579061093435,
     "user": {
      "displayName": "Ivan Echevarria",
      "photoUrl": "https://lh3.googleusercontent.com/a-/AAuE7mAMfXfPhJs1ZbXwkAN3KX7224lDjhrEydAc-M11=s64",
      "userId": "07266047554037102241"
     },
     "user_tz": 480
    },
    "id": "DqSZA8-uElVx",
    "outputId": "b10ec2cf-5add-4574-b6f7-02544c1c77f7",
    "scrolled": true
   },
   "outputs": [],
   "source": [
    "cd lego-face-deep-learning/"
   ]
  },
  {
   "cell_type": "code",
   "execution_count": null,
   "metadata": {
    "colab": {},
    "colab_type": "code",
    "id": "WXLr6LRLEyhB",
    "scrolled": true
   },
   "outputs": [],
   "source": [
    "%%capture\n",
    "!unzip dataset.zip"
   ]
  },
  {
   "cell_type": "code",
   "execution_count": null,
   "metadata": {
    "colab": {
     "base_uri": "https://localhost:8080/",
     "height": 35
    },
    "colab_type": "code",
    "executionInfo": {
     "elapsed": 1065,
     "status": "ok",
     "timestamp": 1579060993415,
     "user": {
      "displayName": "Ivan Echevarria",
      "photoUrl": "https://lh3.googleusercontent.com/a-/AAuE7mAMfXfPhJs1ZbXwkAN3KX7224lDjhrEydAc-M11=s64",
      "userId": "07266047554037102241"
     },
     "user_tz": 480
    },
    "id": "GZ5J52fKFXyJ",
    "outputId": "6e09e111-740f-4a4b-c52d-004e4949211d",
    "scrolled": true
   },
   "outputs": [],
   "source": [
    "ls dataset -1 | wc -l"
   ]
  },
  {
   "cell_type": "markdown",
   "metadata": {
    "colab_type": "text",
    "id": "1Y_bMoy7F0b_"
   },
   "source": [
    "## Sanity test: run the VAE model on MNIST"
   ]
  },
  {
   "cell_type": "code",
   "execution_count": null,
   "metadata": {
    "colab": {
     "base_uri": "https://localhost:8080/",
     "height": 83
    },
    "colab_type": "code",
    "executionInfo": {
     "elapsed": 1383,
     "status": "ok",
     "timestamp": 1579061098717,
     "user": {
      "displayName": "Ivan Echevarria",
      "photoUrl": "https://lh3.googleusercontent.com/a-/AAuE7mAMfXfPhJs1ZbXwkAN3KX7224lDjhrEydAc-M11=s64",
      "userId": "07266047554037102241"
     },
     "user_tz": 480
    },
    "id": "DD0qIQoDF4U3",
    "outputId": "0668b577-7166-4e21-c2e6-147bec389e0f",
    "scrolled": true
   },
   "outputs": [],
   "source": [
    "from ml.utils import load_mnist\n",
    "from ml.variational_autoencoder import VariationalAutoencoder"
   ]
  },
  {
   "cell_type": "code",
   "execution_count": null,
   "metadata": {
    "colab": {},
    "colab_type": "code",
    "id": "Bj3k-UhEGJkJ",
    "scrolled": true
   },
   "outputs": [],
   "source": [
    "(x_train, _), (x_test, _) = load_mnist()"
   ]
  },
  {
   "cell_type": "code",
   "execution_count": null,
   "metadata": {
    "colab": {
     "base_uri": "https://localhost:8080/",
     "height": 473
    },
    "colab_type": "code",
    "executionInfo": {
     "elapsed": 1839,
     "status": "ok",
     "timestamp": 1579061129166,
     "user": {
      "displayName": "Ivan Echevarria",
      "photoUrl": "https://lh3.googleusercontent.com/a-/AAuE7mAMfXfPhJs1ZbXwkAN3KX7224lDjhrEydAc-M11=s64",
      "userId": "07266047554037102241"
     },
     "user_tz": 480
    },
    "id": "zrJGSGBpHKy3",
    "outputId": "f0543f09-bed9-4eb6-b782-1bb71e845241",
    "scrolled": true
   },
   "outputs": [],
   "source": [
    "encoder_params = [\n",
    "    {\"filters\": 32, \"kernel_size\": 3, \"strides\": 1},\n",
    "    {\"filters\": 64, \"kernel_size\": 3, \"strides\": 2},\n",
    "    {\"filters\": 64, \"kernel_size\": 3, \"strides\": 2},\n",
    "    {\"filters\": 64, \"kernel_size\": 3, \"strides\": 1},\n",
    "]\n",
    "\n",
    "decoder_params = [\n",
    "    {\"filters\": 64, \"kernel_size\": 3, \"strides\": 1},\n",
    "    {\"filters\": 64, \"kernel_size\": 3, \"strides\": 2},\n",
    "    {\"filters\": 32, \"kernel_size\": 3, \"strides\": 2},\n",
    "    {\"filters\": 1, \"kernel_size\": 3, \"strides\": 1},\n",
    "]\n",
    "\n",
    "vae = VariationalAutoencoder(\n",
    "    input_dim = (28,28,1),\n",
    "    latent_dim = 8,\n",
    "    encoder_params=encoder_params,\n",
    "    decoder_params=decoder_params,\n",
    ")\n",
    "\n",
    "vae.save()"
   ]
  },
  {
   "cell_type": "code",
   "execution_count": null,
   "metadata": {
    "colab": {},
    "colab_type": "code",
    "id": "tOMnUkdCHX7A",
    "scrolled": true
   },
   "outputs": [],
   "source": [
    "LEARNING_RATE = 0.0005\n",
    "BATCH_SIZE = 32"
   ]
  },
  {
   "cell_type": "code",
   "execution_count": null,
   "metadata": {
    "colab": {
     "base_uri": "https://localhost:8080/",
     "height": 53
    },
    "colab_type": "code",
    "executionInfo": {
     "elapsed": 341,
     "status": "ok",
     "timestamp": 1579061158220,
     "user": {
      "displayName": "Ivan Echevarria",
      "photoUrl": "https://lh3.googleusercontent.com/a-/AAuE7mAMfXfPhJs1ZbXwkAN3KX7224lDjhrEydAc-M11=s64",
      "userId": "07266047554037102241"
     },
     "user_tz": 480
    },
    "id": "haTs5FWTHdqg",
    "outputId": "57a2f3fc-2943-4f6b-a8c5-243dd42a6023",
    "scrolled": true
   },
   "outputs": [],
   "source": [
    "vae.compile_model(lr=LEARNING_RATE, r_loss_factor=1000)"
   ]
  },
  {
   "cell_type": "code",
   "execution_count": null,
   "metadata": {
    "colab": {
     "base_uri": "https://localhost:8080/",
     "height": 1000
    },
    "colab_type": "code",
    "id": "vqHZbc1uHfMQ",
    "outputId": "a03d6015-ed3b-439e-d6ac-a06d46a35651",
    "scrolled": true
   },
   "outputs": [],
   "source": [
    "vae.train(\n",
    "    x_train,\n",
    "    batch_size=BATCH_SIZE,\n",
    "    epochs=200\n",
    ")"
   ]
  },
  {
   "cell_type": "code",
   "execution_count": null,
   "metadata": {
    "colab": {},
    "colab_type": "code",
    "id": "Uu1nrCcIHjUI",
    "scrolled": true
   },
   "outputs": [],
   "source": [
    "plot_reconstructed_images(data=x_test, encoder=vae.encoder_model, decoder=vae.decoder_model)"
   ]
  },
  {
   "cell_type": "markdown",
   "metadata": {
    "colab": {
     "base_uri": "https://localhost:8080/",
     "height": 35
    },
    "colab_type": "code",
    "executionInfo": {
     "elapsed": 342,
     "status": "ok",
     "timestamp": 1579058949835,
     "user": {
      "displayName": "Ivan Echevarria",
      "photoUrl": "https://lh3.googleusercontent.com/a-/AAuE7mAMfXfPhJs1ZbXwkAN3KX7224lDjhrEydAc-M11=s64",
      "userId": "07266047554037102241"
     },
     "user_tz": 480
    },
    "id": "IgxfKv-LPlKT",
    "outputId": "a19c7870-26cf-48e6-bfbe-a32ce28f265d"
   },
   "source": [
    "## Run VAE on Lego faces"
   ]
  },
  {
   "cell_type": "code",
   "execution_count": null,
   "metadata": {
    "colab": {},
    "colab_type": "code",
    "id": "EXVRWextP2B1",
    "scrolled": true
   },
   "outputs": [],
   "source": [
    "from ml.utils import load_lego_faces, plot_reconstructed_images\n",
    "from ml.variational_autoencoder import VariationalAutoencoder"
   ]
  },
  {
   "cell_type": "code",
   "execution_count": null,
   "metadata": {},
   "outputs": [],
   "source": [
    "lego_faces = load_lego_faces()"
   ]
  },
  {
   "cell_type": "code",
   "execution_count": null,
   "metadata": {},
   "outputs": [],
   "source": [
    "encoder_params = [\n",
    "    {\"filters\": 32, \"kernel_size\": 3, \"strides\": 1},\n",
    "    {\"filters\": 64, \"kernel_size\": 3, \"strides\": 2},\n",
    "    {\"filters\": 64, \"kernel_size\": 3, \"strides\": 2},\n",
    "    {\"filters\": 64, \"kernel_size\": 3, \"strides\": 1},\n",
    "]\n",
    "\n",
    "decoder_params = [\n",
    "    {\"filters\": 64, \"kernel_size\": 3, \"strides\": 1},\n",
    "    {\"filters\": 64, \"kernel_size\": 3, \"strides\": 2},\n",
    "    {\"filters\": 32, \"kernel_size\": 3, \"strides\": 2},\n",
    "    {\"filters\": 3, \"kernel_size\": 3, \"strides\": 1},\n",
    "]\n",
    "\n",
    "vae = VariationalAutoencoder(\n",
    "    input_dim = (32, 32, 3),\n",
    "    latent_dim = 200,\n",
    "    encoder_params=encoder_params,\n",
    "    decoder_params=decoder_params,\n",
    ")\n",
    "\n",
    "vae.save()"
   ]
  },
  {
   "cell_type": "code",
   "execution_count": null,
   "metadata": {},
   "outputs": [],
   "source": [
    "LEARNING_RATE = 0.0005\n",
    "BATCH_SIZE = 16"
   ]
  },
  {
   "cell_type": "code",
   "execution_count": null,
   "metadata": {},
   "outputs": [],
   "source": [
    "vae.compile_model(lr=LEARNING_RATE, r_loss_factor=10000)"
   ]
  },
  {
   "cell_type": "code",
   "execution_count": null,
   "metadata": {},
   "outputs": [],
   "source": [
    "vae.train(\n",
    "    lego_faces,\n",
    "    batch_size=BATCH_SIZE,\n",
    "    epochs=200\n",
    ")"
   ]
  },
  {
   "cell_type": "code",
   "execution_count": null,
   "metadata": {},
   "outputs": [],
   "source": [
    "plot_reconstructed_images(data=lego_faces, encoder=vae.encoder_model, decoder=vae.decoder_model)"
   ]
  },
  {
   "cell_type": "code",
   "execution_count": null,
   "metadata": {},
   "outputs": [],
   "source": []
  }
 ],
 "metadata": {
  "accelerator": "GPU",
  "colab": {
   "authorship_tag": "ABX9TyOOH19Mcj621z8Tc3QsR02A",
   "collapsed_sections": [],
   "name": "VAE_colab.ipynb",
   "provenance": []
  },
  "kernelspec": {
   "display_name": "Python 3",
   "language": "python",
   "name": "python3"
  },
  "language_info": {
   "codemirror_mode": {
    "name": "ipython",
    "version": 3
   },
   "file_extension": ".py",
   "mimetype": "text/x-python",
   "name": "python",
   "nbconvert_exporter": "python",
   "pygments_lexer": "ipython3",
   "version": "3.7.3"
  }
 },
 "nbformat": 4,
 "nbformat_minor": 1
}
